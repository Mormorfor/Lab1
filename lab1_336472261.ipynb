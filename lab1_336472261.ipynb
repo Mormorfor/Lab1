{
 "cells": [
  {
   "cell_type": "code",
   "execution_count": 43,
   "metadata": {
    "collapsed": true,
    "jupyter": {
     "outputs_hidden": true
    },
    "tags": []
   },
   "outputs": [],
   "source": [
    "import json\n",
    "import csv\n",
    "import re"
   ]
  },
  {
   "cell_type": "code",
   "execution_count": 44,
   "metadata": {
    "collapsed": false,
    "jupyter": {
     "outputs_hidden": false
    },
    "pycharm": {
     "name": "#%%\n"
    },
    "tags": []
   },
   "outputs": [],
   "source": [
    "def iterate_json(item, info_dict, current_key):\n",
    "    if isinstance(item, list):\n",
    "        for i,element in enumerate(item):\n",
    "            iterate_json(element, info_dict, current_key + \".\" + str(i))\n",
    "            \n",
    "    elif isinstance(item, dict):\n",
    "        for key in item:\n",
    "            value = item[key]\n",
    "            new_key = \"\"\n",
    "            if current_key != \"\":\n",
    "                new_key = current_key + \".\"\n",
    "            new_key = new_key + str(key)\n",
    "            iterate_json(value, info_dict, new_key)\n",
    "    else:\n",
    "        info_dict[current_key] = item\n",
    "                "
   ]
  },
  {
   "cell_type": "code",
   "execution_count": 45,
   "metadata": {
    "tags": []
   },
   "outputs": [],
   "source": [
    "with open('pokedex.json') as jsonfile: \n",
    "    data = json.load(jsonfile)\n",
    "    \n",
    "with open('output.tsv', 'w', newline='') as output:\n",
    "    tsv_writer = csv.writer(output, delimiter='\\t')\n",
    "    flat_data = []\n",
    "    for data_point in data:\n",
    "        per_item = {}\n",
    "        iterate_json(data_point, per_item, \"\")\n",
    "        flat_data.append(per_item)\n",
    "\n",
    "    pattern_height = r'\\((\\d+\\.\\d+|\\d+)m\\)'\n",
    "    pattern_weight = r'\\((\\d+\\.\\d+|\\d+) kg\\)'\n",
    "    for row in flat_data:\n",
    "        height = row.get('height', '')\n",
    "        weight = row.get('weight', '')\n",
    "\n",
    "        match = re.search(pattern_height, height)\n",
    "        if match:\n",
    "            metric_value = match.group(1) + 'm'\n",
    "            row['height'] = metric_value\n",
    "        else:\n",
    "            row['height'] = None\n",
    "\n",
    "        match = re.search(pattern_weight, weight)\n",
    "        if match:\n",
    "            metric_value = match.group(1) + ' kg'\n",
    "            row['weight'] = metric_value\n",
    "        else:\n",
    "            row['weight'] = None\n",
    "\n",
    "    headers = set()\n",
    "    for item in flat_data:\n",
    "        headers.update(item.keys())\n",
    "    headers = sorted(headers)\n",
    "    tsv_writer.writerow(headers)\n",
    "\n",
    "    for row in flat_data:\n",
    "        row_values = [row.get(header, '') for header in headers]\n",
    "        tsv_writer.writerow(row_values)\n",
    "\n",
    "with open('output.tsv', 'r') as tsvfile:\n",
    "    reader = csv.DictReader(tsvfile, delimiter='\\t')\n",
    "    sorted_rows = sorted(reader, key=lambda row: row['name'], reverse=False)\n",
    "\n",
    "with open('pokedex.tsv', 'w', newline='') as tsvfile:\n",
    "    writer = csv.DictWriter(tsvfile,fieldnames=headers, delimiter='\\t')\n",
    "    writer.writeheader()\n",
    "    writer.writerows(sorted_rows)"
   ]
  },
  {
   "cell_type": "code",
   "execution_count": null,
   "outputs": [],
   "source": [],
   "metadata": {
    "collapsed": false,
    "pycharm": {
     "name": "#%%\n"
    }
   }
  }
 ],
 "metadata": {
  "kernelspec": {
   "display_name": "Python 3 (ipykernel)",
   "language": "python",
   "name": "python3"
  },
  "language_info": {
   "codemirror_mode": {
    "name": "ipython",
    "version": 3
   },
   "file_extension": ".py",
   "mimetype": "text/x-python",
   "name": "python",
   "nbconvert_exporter": "python",
   "pygments_lexer": "ipython3",
   "version": "3.7.8"
  }
 },
 "nbformat": 4,
 "nbformat_minor": 4
}